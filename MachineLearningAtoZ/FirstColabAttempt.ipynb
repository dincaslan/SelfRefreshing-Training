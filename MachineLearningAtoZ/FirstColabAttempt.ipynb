{
  "nbformat": 4,
  "nbformat_minor": 0,
  "metadata": {
    "colab": {
      "provenance": [],
      "toc_visible": true
    },
    "kernelspec": {
      "name": "python3",
      "display_name": "Python 3"
    },
    "language_info": {
      "name": "python"
    }
  },
  "cells": [
    {
      "cell_type": "markdown",
      "source": [
        "# First Colab Doc"
      ],
      "metadata": {
        "id": "XP2Zvcr_pIHN"
      }
    },
    {
      "cell_type": "code",
      "execution_count": 1,
      "metadata": {
        "id": "T7InTbvOwD16"
      },
      "outputs": [],
      "source": [
        "# You can create useful code snippets, a group of code to call easily for the repeated tasks.\n",
        "# For example, these were the useful import codes for initial data pre-processing.\n",
        "\n",
        "import numpy as np\n",
        "import matplotlib.pyplot as plt\n",
        "import pandas as pd"
      ]
    },
    {
      "cell_type": "markdown",
      "source": [
        "**How does colab works?**\n",
        "\n",
        "---\n",
        "\n",
        "It is a Python-based notebook that allows modifications and collaborations on the code in your browser.\n",
        "\n",
        "It has already installed libraries for machine and deep learning.\n",
        "\n",
        "This makes it easy to work on your code anywhere where you can access your google account."
      ],
      "metadata": {
        "id": "0CE_9gWzwR_C"
      }
    },
  ]
}
